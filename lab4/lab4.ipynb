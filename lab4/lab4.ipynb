{
 "cells": [
  {
   "cell_type": "code",
   "execution_count": 1,
   "id": "53dabec2-8df0-4e5f-8f80-1a8a59cfa96b",
   "metadata": {},
   "outputs": [
    {
     "name": "stdout",
     "output_type": "stream",
     "text": [
      "2\n"
     ]
    }
   ],
   "source": [
    "from scipy.stats import bernoulli\n",
    "\n",
    "def simulations_axis(start):\n",
    "    pos = bernoulli.rvs(0.5, size = 10)\n",
    "    for i in pos:\n",
    "        if i == 0:\n",
    "            start -= 1\n",
    "        else:\n",
    "            start += 1\n",
    "    return start\n",
    "\n",
    "print(simulations_axis(0))"
   ]
  },
  {
   "cell_type": "code",
   "execution_count": 2,
   "id": "2e238238-d534-4e8e-a4ac-e62b7df97916",
   "metadata": {},
   "outputs": [
    {
     "data": {
      "image/png": "[encoded data removed]",
      "text/plain": [
       "<Figure size 640x480 with 1 Axes>"
      ]
     },
     "metadata": {},
     "output_type": "display_data"
    }
   ],
   "source": [
    "from matplotlib.pyplot import bar, hist, grid, show, legend, xticks\n",
    "\n",
    "data = [simulations_axis(0) for _ in range(1000)]\n",
    "bin_edges = range(-10, 10)\n",
    "xticks(range(-10, 10))\n",
    "\n",
    "hist(data, bins = bin_edges, density = True, rwidth = 0.9, color = 'magenta', edgecolor = 'black', alpha = 0.5, label = 'frecvente relative')\n",
    "show()"
   ]
  },
  {
   "cell_type": "code",
   "execution_count": 32,
   "id": "1db0d5b3-780f-4dca-af08-bd0a74d18874",
   "metadata": {},
   "outputs": [
    {
     "name": "stdout",
     "output_type": "stream",
     "text": [
      "0\n"
     ]
    }
   ],
   "source": [
    "from scipy.stats import bernoulli\n",
    "\n",
    "def simulations_circle(start, nodes):\n",
    "    pos = bernoulli.rvs(0.5, size = 10)\n",
    "    for i in pos:\n",
    "        if i == 0:\n",
    "            start -= 1\n",
    "        else:\n",
    "            start += 1\n",
    "    return start % nodes\n",
    "\n",
    "print(simulations_circle(0, 5))"
   ]
  },
  {
   "cell_type": "code",
   "execution_count": 33,
   "id": "0a82b6f2-2644-4d4e-898c-a62f012bcfb6",
   "metadata": {},
   "outputs": [
    {
     "data": {
      "image/png": "[encoded data removed]",
      "text/plain": [
       "<Figure size 640x480 with 1 Axes>"
      ]
     },
     "metadata": {},
     "output_type": "display_data"
    }
   ],
   "source": [
    "from matplotlib.pyplot import bar, hist, grid, show, legend, xticks\n",
    "\n",
    "data = [simulations_circle(0, 5) for _ in range(1000)]\n",
    "\n",
    "bin_edges = [k + 0.5 for k in range(-1, 6)]\n",
    "xticks(range(-1, 6))\n",
    "\n",
    "hist(data, bins = bin_edges, density = True, rwidth = 0.9, color = 'magenta', edgecolor = 'black', alpha = 0.5, label = 'frecvente relative')\n",
    "show()"
   ]
  },
  {
   "cell_type": "code",
   "execution_count": 37,
   "id": "325f0665-0c67-4efd-a180-4ec14455697c",
   "metadata": {},
   "outputs": [
    {
     "name": "stdout",
     "output_type": "stream",
     "text": [
      "0.018637545002022304\n",
      "0.8442381012450362\n"
     ]
    }
   ],
   "source": [
    "from scipy.stats import hypergeom, geom\n",
    "\n",
    "# X = nr. de nr. castigatoare be un bilet\n",
    "# P(X >= 3)\n",
    "p3 = 1 - hypergeom.cdf(2, 49, 6, 6)\n",
    "print(p3)\n",
    "\n",
    "# Y = nr. de bilete necastigatoare pana la unul castigator\n",
    "# P(Y >= 10)\n",
    "p10 = 1 - geom.cdf(9, p3)\n",
    "print(p10)"
   ]
  },
  {
   "cell_type": "code",
   "execution_count": null,
   "id": "f5e78f8d-43d2-4b52-ba91-0b13c89c642c",
   "metadata": {},
   "outputs": [],
   "source": []
  }
 ],
 "metadata": {
  "kernelspec": {
   "display_name": "Python 3 (ipykernel)",
   "language": "python",
   "name": "python3"
  },
  "language_info": {
   "codemirror_mode": {
    "name": "ipython",
    "version": 3
   },
   "file_extension": ".py",
   "mimetype": "text/x-python",
   "name": "python",
   "nbconvert_exporter": "python",
   "pygments_lexer": "ipython3",
   "version": "3.10.7"
  }
 },
 "nbformat": 4,
 "nbformat_minor": 5
}
