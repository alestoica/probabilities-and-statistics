{
 "cells": [
  {
   "cell_type": "code",
   "execution_count": 1,
   "id": "3aeb5a53-07e2-48ec-ad50-8f52a4333018",
   "metadata": {},
   "outputs": [],
   "source": [
    "import math\n",
    "import random\n",
    "from random import sample\n",
    "from math import factorial, perm, comb\n",
    "from itertools import permutations, combinations"
   ]
  },
  {
   "cell_type": "code",
   "execution_count": 2,
   "id": "f016c235-b8a6-43b3-b950-e6027fd8d135",
   "metadata": {},
   "outputs": [],
   "source": [
    "def permute(word, total_number=False, rand=False):\n",
    "    result = permutations(word)\n",
    "    print(\"permutations: \")\n",
    "    for r in result:\n",
    "        print(r)\n",
    "    if total_number:\n",
    "        print(\"nr. of permutations: \", math.factorial(len(word)))\n",
    "    if rand:\n",
    "        print(\"random permutation: \", random.sample(word, 4))"
   ]
  },
  {
   "cell_type": "code",
   "execution_count": 3,
   "id": "619d14ee-a41b-4150-9b78-46a298f3abf1",
   "metadata": {},
   "outputs": [],
   "source": [
    "def combine(word, k, total_number=False, rand=False):\n",
    "    result = combinations(word, k)\n",
    "    print(\"combinations: \")\n",
    "    for r in result:\n",
    "        print(r)\n",
    "    if total_number:\n",
    "        print(\"nr. of combinations: \", math.comb(len(word), k))\n",
    "    if rand:\n",
    "        positions = sorted(sample(list(range(len(word))), k))\n",
    "        res = [word[i] for i in positions]\n",
    "        print(\"random combinations: \", res)"
   ]
  },
  {
   "cell_type": "code",
   "execution_count": 4,
   "id": "39d4366d-3ad4-4c40-9646-11dcb4c66fa5",
   "metadata": {},
   "outputs": [],
   "source": [
    "def arrange(word, k, total_number=False, rand=False):\n",
    "    result = permutations(word, k)\n",
    "    print(\"arrangements: \", result)\n",
    "    for r in result:\n",
    "        print(r)\n",
    "    if total_number:\n",
    "        print(\"nr. of arrangements: \", math.comb(len(word), k) * math.factorial(k))\n",
    "    if rand:\n",
    "        print(\"random arrangements: \", random.sample(word, k))"
   ]
  },
  {
   "cell_type": "code",
   "execution_count": 5,
   "id": "02dff612-1e48-4b36-9f16-19fa15c6fc82",
   "metadata": {},
   "outputs": [
    {
     "name": "stdout",
     "output_type": "stream",
     "text": [
      "permutations: \n",
      "('w', 'o', 'r', 'd')\n",
      "('w', 'o', 'd', 'r')\n",
      "('w', 'r', 'o', 'd')\n",
      "('w', 'r', 'd', 'o')\n",
      "('w', 'd', 'o', 'r')\n",
      "('w', 'd', 'r', 'o')\n",
      "('o', 'w', 'r', 'd')\n",
      "('o', 'w', 'd', 'r')\n",
      "('o', 'r', 'w', 'd')\n",
      "('o', 'r', 'd', 'w')\n",
      "('o', 'd', 'w', 'r')\n",
      "('o', 'd', 'r', 'w')\n",
      "('r', 'w', 'o', 'd')\n",
      "('r', 'w', 'd', 'o')\n",
      "('r', 'o', 'w', 'd')\n",
      "('r', 'o', 'd', 'w')\n",
      "('r', 'd', 'w', 'o')\n",
      "('r', 'd', 'o', 'w')\n",
      "('d', 'w', 'o', 'r')\n",
      "('d', 'w', 'r', 'o')\n",
      "('d', 'o', 'w', 'r')\n",
      "('d', 'o', 'r', 'w')\n",
      "('d', 'r', 'w', 'o')\n",
      "('d', 'r', 'o', 'w')\n",
      "nr. of permutations:  24\n",
      "random permutation:  ['d', 'r', 'o', 'w']\n"
     ]
    }
   ],
   "source": [
    "permute('word', total_number=True, rand=True)"
   ]
  },
  {
   "cell_type": "code",
   "execution_count": 6,
   "id": "390aa01e-98b1-48e0-8878-57c7a3c330bb",
   "metadata": {},
   "outputs": [
    {
     "name": "stdout",
     "output_type": "stream",
     "text": [
      "combinations: \n",
      "('w', 'o')\n",
      "('w', 'r')\n",
      "('w', 'd')\n",
      "('o', 'r')\n",
      "('o', 'd')\n",
      "('r', 'd')\n",
      "nr. of combinations:  6\n",
      "random combinations:  ['w', 'r']\n"
     ]
    }
   ],
   "source": [
    "combine('word', 2, total_number=True, rand=True)"
   ]
  },
  {
   "cell_type": "code",
   "execution_count": 7,
   "id": "e63e59b8-99aa-4ea6-90b7-098d24e87c21",
   "metadata": {},
   "outputs": [
    {
     "name": "stdout",
     "output_type": "stream",
     "text": [
      "arrangements:  <itertools.permutations object at 0x0000015E8D0F3F10>\n",
      "('w', 'o')\n",
      "('w', 'r')\n",
      "('w', 'd')\n",
      "('o', 'w')\n",
      "('o', 'r')\n",
      "('o', 'd')\n",
      "('r', 'w')\n",
      "('r', 'o')\n",
      "('r', 'd')\n",
      "('d', 'w')\n",
      "('d', 'o')\n",
      "('d', 'r')\n",
      "nr. of arrangements:  12\n",
      "random arrangements:  ['r', 'w']\n"
     ]
    }
   ],
   "source": [
    "arrange('word', 2, total_number=True, rand=True)"
   ]
  }
 ],
 "metadata": {
  "kernelspec": {
   "display_name": "Python 3 (ipykernel)",
   "language": "python",
   "name": "python3"
  },
  "language_info": {
   "codemirror_mode": {
    "name": "ipython",
    "version": 3
   },
   "file_extension": ".py",
   "mimetype": "text/x-python",
   "name": "python",
   "nbconvert_exporter": "python",
   "pygments_lexer": "ipython3",
   "version": "3.10.7"
  }
 },
 "nbformat": 4,
 "nbformat_minor": 5
}
